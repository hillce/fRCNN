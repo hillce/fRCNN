{
 "metadata": {
  "language_info": {
   "codemirror_mode": {
    "name": "ipython",
    "version": 3
   },
   "file_extension": ".py",
   "mimetype": "text/x-python",
   "name": "python",
   "nbconvert_exporter": "python",
   "pygments_lexer": "ipython3",
   "version": "3.7.9"
  },
  "orig_nbformat": 2,
  "kernelspec": {
   "name": "pythonjvsc74a57bd0c428e58dc82dbe1017e174b4aea0903d12c3fd818f3732ea4cfc62850a0637c7",
   "display_name": "Python 3.7.9 64-bit ('venv': venv)"
  },
  "metadata": {
   "interpreter": {
    "hash": "c428e58dc82dbe1017e174b4aea0903d12c3fd818f3732ea4cfc62850a0637c7"
   }
  }
 },
 "nbformat": 4,
 "nbformat_minor": 2,
 "cells": [
  {
   "cell_type": "code",
   "execution_count": 17,
   "metadata": {},
   "outputs": [],
   "source": [
    "import numpy as np\n",
    "import os\n",
    "import pandas"
   ]
  },
  {
   "cell_type": "code",
   "execution_count": 31,
   "metadata": {},
   "outputs": [],
   "source": [
    "reasonFiles = [x for x in os.listdir() if \"ct1\" in x]\n",
    "reasonDict = {}\n",
    "for fName in reasonFiles:\n",
    "    if \"badsequence\" not in fName:\n",
    "\n",
    "        name = fName.split(\"-\")\n",
    "        name = \"-\".join(name[2:])\n",
    "        reasonDict[name] = 0\n",
    "\n",
    "totArtefactList = []\n",
    "for fName in reasonFiles:\n",
    "    if \"badsequence\" not in fName:\n",
    "        artefactList = []\n",
    "        with open(fName,\"r\") as f:\n",
    "            for line in f:\n",
    "                line = line.strip()\n",
    "                artefactList.append(line)\n",
    "\n",
    "            artefactList = set(artefactList)\n",
    "            totArtefactList.extend(artefactList)\n",
    "\n",
    "            name = fName.split(\"-\")\n",
    "            name = \"-\".join(name[2:])\n",
    "            reasonDict[name] += len(artefactList)\n",
    "\n",
    "totArtefactList = set(totArtefactList)\n",
    "reasonDict[\"Sum\"] = len(totArtefactList)"
   ]
  },
  {
   "cell_type": "code",
   "execution_count": 32,
   "metadata": {},
   "outputs": [
    {
     "output_type": "execute_result",
     "data": {
      "text/plain": [
       "                 Name   Val      Freq\n",
       "0           Artifacts   329  0.006943\n",
       "1     Field_artefacts   523  0.011037\n",
       "2      highiron-lowt1   224  0.004727\n",
       "3     lookuptable-rip   146  0.003081\n",
       "4           m50pcfail   384  0.008103\n",
       "5      Other_Unlisted   480  0.010129\n",
       "6              pdff35   200  0.004221\n",
       "7             Rainbow   664  0.014012\n",
       "8   Segmentation_fail   768  0.016207\n",
       "9      Wrong_location    70  0.001477\n",
       "10            zeroct1   263  0.005550\n",
       "11                Sum  3297  0.069576"
      ],
      "text/html": "<div>\n<style scoped>\n    .dataframe tbody tr th:only-of-type {\n        vertical-align: middle;\n    }\n\n    .dataframe tbody tr th {\n        vertical-align: top;\n    }\n\n    .dataframe thead th {\n        text-align: right;\n    }\n</style>\n<table border=\"1\" class=\"dataframe\">\n  <thead>\n    <tr style=\"text-align: right;\">\n      <th></th>\n      <th>Name</th>\n      <th>Val</th>\n      <th>Freq</th>\n    </tr>\n  </thead>\n  <tbody>\n    <tr>\n      <th>0</th>\n      <td>Artifacts</td>\n      <td>329</td>\n      <td>0.006943</td>\n    </tr>\n    <tr>\n      <th>1</th>\n      <td>Field_artefacts</td>\n      <td>523</td>\n      <td>0.011037</td>\n    </tr>\n    <tr>\n      <th>2</th>\n      <td>highiron-lowt1</td>\n      <td>224</td>\n      <td>0.004727</td>\n    </tr>\n    <tr>\n      <th>3</th>\n      <td>lookuptable-rip</td>\n      <td>146</td>\n      <td>0.003081</td>\n    </tr>\n    <tr>\n      <th>4</th>\n      <td>m50pcfail</td>\n      <td>384</td>\n      <td>0.008103</td>\n    </tr>\n    <tr>\n      <th>5</th>\n      <td>Other_Unlisted</td>\n      <td>480</td>\n      <td>0.010129</td>\n    </tr>\n    <tr>\n      <th>6</th>\n      <td>pdff35</td>\n      <td>200</td>\n      <td>0.004221</td>\n    </tr>\n    <tr>\n      <th>7</th>\n      <td>Rainbow</td>\n      <td>664</td>\n      <td>0.014012</td>\n    </tr>\n    <tr>\n      <th>8</th>\n      <td>Segmentation_fail</td>\n      <td>768</td>\n      <td>0.016207</td>\n    </tr>\n    <tr>\n      <th>9</th>\n      <td>Wrong_location</td>\n      <td>70</td>\n      <td>0.001477</td>\n    </tr>\n    <tr>\n      <th>10</th>\n      <td>zeroct1</td>\n      <td>263</td>\n      <td>0.005550</td>\n    </tr>\n    <tr>\n      <th>11</th>\n      <td>Sum</td>\n      <td>3297</td>\n      <td>0.069576</td>\n    </tr>\n  </tbody>\n</table>\n</div>"
     },
     "metadata": {},
     "execution_count": 32
    }
   ],
   "source": [
    "biobankNum = len(os.listdir(\"D:/UKB_Liver/20204_2_0\"))\n",
    "\n",
    "reasonDict = {\"Name\":[x for x in reasonDict.keys()],\"Val\":[x for x in reasonDict.values()],\"Freq\":[x/biobankNum for x in reasonDict.values()]}\n",
    "\n",
    "df = pandas.DataFrame(reasonDict)\n",
    "df"
   ]
  }
 ]
}